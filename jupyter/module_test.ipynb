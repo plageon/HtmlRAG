{
 "cells": [
  {
   "metadata": {
    "ExecuteTime": {
     "end_time": "2025-01-16T06:16:31.201669Z",
     "start_time": "2025-01-16T06:16:31.195141Z"
    }
   },
   "cell_type": "code",
   "source": [
    "import sys\n",
    "\n",
    "sys.path.append('../toolkit/')\n",
    "from htmlrag import clean_html\n",
    "\n",
    "question=\"When was the bellagio in las vegas built?\"\n",
    "html=\"\"\"\n",
    "<html>\n",
    "<head>\n",
    "<h1>Bellagio Hotel in Las</h1>\n",
    "</head>\n",
    "<body>\n",
    "<p class=\"class0\">The Bellagio is a luxury hotel and casino located on the Las Vegas Strip in Paradise, Nevada. It was built in 1998.</p>\n",
    "</body>\n",
    "<div>\n",
    "<div>\n",
    "<p>Some other text</p>\n",
    "<p>Some other text</p>\n",
    "</div>\n",
    "</div>\n",
    "<p class=\"class1\"></p>\n",
    "<!-- Some comment -->\n",
    "<script type=\"text/javascript\">\n",
    "document.write(\"Hello World!\");\n",
    "</script>\n",
    "</html>\n",
    "\"\"\"\n",
    "\n",
    "# html=open(\"../govdata.html\").read()\n",
    "\n",
    "simplified_html = clean_html(html)\n",
    "print(simplified_html)\n",
    "\n",
    "\n",
    "# <html>\n",
    "# <title>A short description of the Bellagio hotel</title>\n",
    "# <p>The Bellagio is a luxury hotel and casino located on the Las Vegas Strip in Paradise, Nevada. It was built in 1998.</p>\n",
    "# <div>\n",
    "# <p>Some other text</p>\n",
    "# <p>Some other text</p>\n",
    "# </div>\n",
    "# </html>"
   ],
   "id": "4391a6d075278353",
   "outputs": [
    {
     "name": "stdout",
     "output_type": "stream",
     "text": [
      "<html>\n",
      "<h1>Bellagio Hotel in Las</h1>\n",
      "<p>The Bellagio is a luxury hotel and casino located on the Las Vegas Strip in Paradise, Nevada. It was built in 1998.</p>\n",
      "<div>\n",
      "<p>Some other text</p>\n",
      "<p>Some other text</p>\n",
      "</div>\n",
      "</html>\n"
     ]
    }
   ],
   "execution_count": 58
  },
  {
   "metadata": {
    "ExecuteTime": {
     "end_time": "2025-01-16T06:16:31.926661Z",
     "start_time": "2025-01-16T06:16:31.922979Z"
    }
   },
   "cell_type": "code",
   "source": [
    "# Maximum number of words in a node when constructing the block tree for pruning with the embedding model\n",
    "MAX_NODE_WORDS_EMBED = 10\n",
    "# MAX_NODE_WORDS_EMBED = 256 # a recommended setting for real-world HTML documents\n",
    "# Maximum number of tokens in the output HTML document pruned with the embedding model\n",
    "MAX_CONTEXT_WINDOW_EMBED = 60\n",
    "# MAX_CONTEXT_WINDOW_EMBED = 6144 # a recommended setting for real-world HTML documents\n",
    "# Maximum number of words in a node when constructing the block tree for pruning with the generative model\n",
    "MAX_NODE_WORDS_GEN = 5\n",
    "# MAX_NODE_WORDS_GEN = 128 # a recommended setting for real-world HTML documents\n",
    "# Maximum number of tokens in the output HTML document pruned with the generative model\n",
    "MAX_CONTEXT_WINDOW_GEN = 32\n",
    "# MAX_CONTEXT_WINDOW_GEN = 4096 # a recommended setting for real-world HTML documents"
   ],
   "id": "aad73cfb61ec08c9",
   "outputs": [],
   "execution_count": 59
  },
  {
   "metadata": {
    "ExecuteTime": {
     "end_time": "2025-01-16T06:16:32.474547Z",
     "start_time": "2025-01-16T06:16:32.468904Z"
    }
   },
   "cell_type": "code",
   "source": [
    "from htmlrag import build_block_tree\n",
    "\n",
    "# if you have mutiple HTML documents, merge them using the following code\n",
    "# simplified_html = \"\\n\".join([clean_html(html) for html in htmls])\n",
    "block_tree, simplified_html=build_block_tree(simplified_html, max_node_words=MAX_NODE_WORDS_EMBED)\n",
    "# block_tree, simplified_html=build_block_tree(simplified_html, max_node_words=256, zh_char=True) # for Chinese text\n",
    "for block in block_tree:\n",
    "    print(\"Block Content: \", block[0])\n",
    "    print(\"Block Path: \", block[1])\n",
    "    print(\"Is Leaf: \", block[2])\n",
    "    print(\"\")\n",
    "\n",
    "# Block Content:  <title>A short description of the Bellagio hotel</title>\n",
    "# Block Path:  ['html', 'title']\n",
    "# Is Leaf:  True\n",
    "# \n",
    "# Block Content:  <div>\n",
    "# <p>Some other text</p>\n",
    "# <p>Some other text</p>\n",
    "# </div>\n",
    "# Block Path:  ['html', 'div']\n",
    "# Is Leaf:  True\n",
    "# \n",
    "# Block Content:  <p>The Bellagio is a luxury hotel and casino located on the Las Vegas Strip in Paradise, Nevada. It was built in 1998.</p>\n",
    "# Block Path:  ['html', 'p']\n",
    "# Is Leaf:  True\n"
   ],
   "id": "3b9775fe9a0f8a98",
   "outputs": [
    {
     "name": "stdout",
     "output_type": "stream",
     "text": [
      "Block Content:  <h1>Bellagio Hotel in Las</h1>\n",
      "Block Path:  ['html', 'h1']\n",
      "Is Leaf:  True\n",
      "\n",
      "Block Content:  <div>\n",
      "<p>Some other text</p>\n",
      "<p>Some other text</p>\n",
      "</div>\n",
      "Block Path:  ['html', 'div']\n",
      "Is Leaf:  True\n",
      "\n",
      "Block Content:  <p>The Bellagio is a luxury hotel and casino located on the Las Vegas Strip in Paradise, Nevada. It was built in 1998.</p>\n",
      "Block Path:  ['html', 'p']\n",
      "Is Leaf:  True\n",
      "\n"
     ]
    }
   ],
   "execution_count": 60
  },
  {
   "metadata": {
    "ExecuteTime": {
     "end_time": "2025-01-16T06:14:44.840077Z",
     "start_time": "2025-01-16T06:14:44.000943Z"
    }
   },
   "cell_type": "code",
   "source": [
    "from htmlrag import EmbedHTMLPruner\n",
    "\n",
    "embed_model=\"/processing_data/biz/jiejuntan/huggingface/bge-large-en/\"\n",
    "query_instruction_for_retrieval = \"Instruct: Given a web search query, retrieve relevant passages that answer the query\\nQuery: \"\n",
    "embed_html_pruner = EmbedHTMLPruner(embed_model=embed_model, local_inference=True, query_instruction_for_retrieval=query_instruction_for_retrieval)\n",
    "# alternatively you can init a remote TEI model, refer to https://github.com/huggingface/text-embeddings-inference.\n",
    "# tei_endpoint=\"http://YOUR_TEI_ENDPOINT\"\n",
    "# embed_html_pruner = EmbedHTMLPruner(embed_model=embed_model, local_inference=False, query_instruction_for_retrieval = query_instruction_for_retrieval, endpoint=tei_endpoint)\n",
    "block_rankings=embed_html_pruner.calculate_block_rankings(question, simplified_html, block_tree)\n",
    "print(block_rankings)\n",
    "\n",
    "# [2, 0, 1]"
   ],
   "id": "f56d81bc017b300e",
   "outputs": [
    {
     "name": "stdout",
     "output_type": "stream",
     "text": [
      "[2, 0, 1]\n"
     ]
    }
   ],
   "execution_count": 52
  },
  {
   "metadata": {
    "ExecuteTime": {
     "end_time": "2025-01-16T06:14:46.140785Z",
     "start_time": "2025-01-16T06:14:45.657565Z"
    }
   },
   "cell_type": "code",
   "source": [
    "from transformers import AutoTokenizer\n",
    "\n",
    "chat_tokenizer = AutoTokenizer.from_pretrained(\"/processing_data/biz/jiejuntan/huggingface/Meta-Llama-3.1-70B-Instruct/\")\n",
    "\n",
    "pruned_html = embed_html_pruner.prune_HTML(simplified_html, block_tree, block_rankings, chat_tokenizer, MAX_CONTEXT_WINDOW_EMBED)\n",
    "# pruned_html=bm25_html_pruner.prune_HTML(simplified_html, block_tree, block_rankings, chat_tokenizer, max_context_window)\n",
    "print(pruned_html)\n",
    "\n",
    "# <html>\n",
    "# <title>A short description of the Bellagio hotel</title>\n",
    "# <p>The Bellagio is a luxury hotel and casino located on the Las Vegas Strip in Paradise, Nevada. It was built in 1998.</p>\n",
    "# </html>"
   ],
   "id": "b902c4b1f7f74c1f",
   "outputs": [
    {
     "name": "stdout",
     "output_type": "stream",
     "text": [
      "<html>\n",
      "<h1>Bellagio Hotel in Las</h1>\n",
      "<p>The Bellagio is a luxury hotel and casino located on the Las Vegas Strip in Paradise, Nevada. It was built in 1998.</p>\n",
      "</html>\n"
     ]
    }
   ],
   "execution_count": 53
  },
  {
   "metadata": {
    "ExecuteTime": {
     "end_time": "2025-01-16T06:14:48.447077Z",
     "start_time": "2025-01-16T06:14:48.441856Z"
    }
   },
   "cell_type": "code",
   "source": [
    "block_tree, pruned_html=build_block_tree(pruned_html, max_node_words=10)\n",
    "for block in block_tree:\n",
    "    print(\"Block Content: \", block[0])\n",
    "    print(\"Block Path: \", block[1])\n",
    "    print(\"Is Leaf: \", block[2])\n",
    "    print(\"\")\n",
    "\n",
    "# Block Content:  <title>A short description of the Bellagio hotel</title>\n",
    "# Block Path:  ['html', 'title']\n",
    "# Is Leaf:  True\n",
    "#\n",
    "# Block Content:  <p>The Bellagio is a luxury hotel and casino located on the Las Vegas Strip in Paradise, Nevada. It was built in 1998.</p>\n",
    "# Block Path:  ['html', 'p']\n",
    "# Is Leaf:  True"
   ],
   "id": "b7fc1c9281f42315",
   "outputs": [
    {
     "name": "stdout",
     "output_type": "stream",
     "text": [
      "Block Content:  <h1>Bellagio Hotel in Las</h1>\n",
      "Block Path:  ['html', 'h1']\n",
      "Is Leaf:  True\n",
      "\n",
      "Block Content:  <p>The Bellagio is a luxury hotel and casino located on the Las Vegas Strip in Paradise, Nevada. It was built in 1998.</p>\n",
      "Block Path:  ['html', 'p']\n",
      "Is Leaf:  True\n",
      "\n"
     ]
    }
   ],
   "execution_count": 54
  },
  {
   "metadata": {
    "ExecuteTime": {
     "end_time": "2025-01-16T06:16:36.055129Z",
     "start_time": "2025-01-16T06:16:36.049329Z"
    }
   },
   "cell_type": "code",
   "source": [
    "#. alternatively you can use bm25 to rank the blocks\n",
    "from htmlrag import BM25HTMLPruner\n",
    "bm25_html_pruner = BM25HTMLPruner()\n",
    "block_rankings=bm25_html_pruner.calculate_block_rankings(question, simplified_html, block_tree)\n",
    "print(block_rankings)\n",
    "assert len(block_rankings)==len(block_tree), f\"The number of block rankings {len(block_rankings)} should be equal to the number of blocks {len(block_tree)}\"\n",
    "# [2, 0, 1]"
   ],
   "id": "153d1675e2a7631d",
   "outputs": [
    {
     "name": "stdout",
     "output_type": "stream",
     "text": [
      "[2, 0, 1]\n"
     ]
    }
   ],
   "execution_count": 61
  },
  {
   "metadata": {
    "ExecuteTime": {
     "end_time": "2025-01-16T06:15:10.962004Z",
     "start_time": "2025-01-16T06:15:09.637744Z"
    }
   },
   "cell_type": "code",
   "source": [
    "from htmlrag import GenHTMLPruner\n",
    "import torch\n",
    "\n",
    "# ckpt_path = \"/processing_data/biz/jiejuntan/huggingface/HTML-Pruner-Phi-3.8B\"\n",
    "ckpt_path = \"/processing_data/biz/jiejuntan/huggingface/HTML-Pruner-Llama-1B\"\n",
    "if torch.cuda.is_available():\n",
    "    device=\"cuda\"\n",
    "else:\n",
    "    device=\"cpu\"\n",
    "gen_html_pruner = GenHTMLPruner(gen_model=ckpt_path, max_node_words=5, device=device)\n",
    "block_rankings=gen_html_pruner.calculate_block_rankings(question, pruned_html, block_tree)\n",
    "print(block_rankings)\n",
    "\n",
    "# [1, 0]"
   ],
   "id": "8c2ed17ba20f51ef",
   "outputs": [
    {
     "name": "stdout",
     "output_type": "stream",
     "text": [
      "[1, 0]\n"
     ]
    }
   ],
   "execution_count": 57
  },
  {
   "metadata": {
    "ExecuteTime": {
     "end_time": "2025-01-16T06:23:53.606113Z",
     "start_time": "2025-01-16T06:23:53.599785Z"
    }
   },
   "cell_type": "code",
   "source": [
    "max_context_window=32\n",
    "pruned_html=gen_html_pruner.prune_HTML(pruned_html, block_tree, block_rankings, chat_tokenizer, max_context_window)\n",
    "print(pruned_html)\n",
    "\n",
    "# <p>The Bellagio is a luxury hotel and casino located on the Las Vegas Strip in Paradise, Nevada. It was built in 1998.</p>"
   ],
   "id": "fcbeb84dfd3751a7",
   "outputs": [
    {
     "name": "stdout",
     "output_type": "stream",
     "text": [
      "<p>The Bellagio is a luxury hotel and casino located on the Las Vegas Strip in Paradise, Nevada. It was built in 1998.</p>\n"
     ]
    }
   ],
   "execution_count": 62
  },
  {
   "cell_type": "code",
   "execution_count": null,
   "id": "1d6bcf5600b11388",
   "metadata": {},
   "outputs": [],
   "source": []
  }
 ],
 "metadata": {
  "kernelspec": {
   "display_name": "Python 3 (ipykernel)",
   "language": "python",
   "name": "python3"
  },
  "language_info": {
   "codemirror_mode": {
    "name": "ipython",
    "version": 3
   },
   "file_extension": ".py",
   "mimetype": "text/x-python",
   "name": "python",
   "nbconvert_exporter": "python",
   "pygments_lexer": "ipython3",
   "version": "3.9.20"
  }
 },
 "nbformat": 4,
 "nbformat_minor": 5
}
